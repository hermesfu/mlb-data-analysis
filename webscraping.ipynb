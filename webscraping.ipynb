{
  "cells": [
    {
      "cell_type": "code",
      "execution_count": 1,
      "metadata": {
        "id": "2Bxp8yctWy8i"
      },
      "outputs": [],
      "source": [
        "import requests\n",
        "from bs4 import BeautifulSoup\n",
        "import pandas as pd\n",
        "import matplotlib.pyplot as plt"
      ]
    },
    {
      "cell_type": "code",
      "execution_count": null,
      "metadata": {
        "id": "cNUEOhiVQ8ag"
      },
      "outputs": [],
      "source": [
        "#crate frame(column titles) for web scraping data\n",
        "d = {'name': [], 'position': []}\n",
        "r = requests.get('https://www.mlb.com/stats/2023')\n",
        "soup = BeautifulSoup(r.content, 'html.parser')\n",
        "table = soup.find(class_=\"table-scroller-GsCM0EhI scroller\")\n",
        "columns = [c.get_text() for c in table.find_all('abbr')][2::2]\n",
        "for i in range (len(columns)):\n",
        "    d[columns[i]] = []"
      ]
    },
    {
      "cell_type": "code",
      "execution_count": null,
      "metadata": {
        "colab": {
          "base_uri": "https://localhost:8080/"
        },
        "id": "igYvN6vxP_eM",
        "outputId": "ebc431dd-ecc0-4a9f-d180-d7397f2b0ae6"
      },
      "outputs": [
        {
          "output_type": "stream",
          "name": "stdout",
          "text": [
            "https://www.mlb.com/stats/2023/?page=1\n",
            "https://www.mlb.com/stats/2023/?page=2\n",
            "https://www.mlb.com/stats/2023/?page=3\n",
            "https://www.mlb.com/stats/2023/?page=4\n",
            "https://www.mlb.com/stats/2023/?page=5\n",
            "https://www.mlb.com/stats/2023/?page=6\n",
            "https://www.mlb.com/stats/2023/?page=7\n",
            "https://www.mlb.com/stats/2023/?page=8\n",
            "https://www.mlb.com/stats/2023/?page=9\n",
            "https://www.mlb.com/stats/2023/?page=10\n",
            "https://www.mlb.com/stats/2023/?page=11\n",
            "https://www.mlb.com/stats/2023/?page=12\n",
            "https://www.mlb.com/stats/2023/?page=13\n",
            "https://www.mlb.com/stats/2023/?page=14\n",
            "https://www.mlb.com/stats/2023/?page=15\n",
            "https://www.mlb.com/stats/2023/?page=16\n",
            "https://www.mlb.com/stats/2023/?page=17\n",
            "https://www.mlb.com/stats/2023/?page=18\n",
            "https://www.mlb.com/stats/2023/?page=19\n",
            "https://www.mlb.com/stats/2023/?page=20\n",
            "https://www.mlb.com/stats/2023/?page=21\n",
            "https://www.mlb.com/stats/2023/?page=22\n",
            "https://www.mlb.com/stats/2023/?page=23\n",
            "https://www.mlb.com/stats/2023/?page=24\n",
            "https://www.mlb.com/stats/2023/?page=25\n",
            "https://www.mlb.com/stats/2023/?page=26\n",
            "https://www.mlb.com/stats/2023/?page=27\n",
            "https://www.mlb.com/stats/2023/?page=28\n",
            "https://www.mlb.com/stats/2023/?page=29\n",
            "https://www.mlb.com/stats/2023/?page=30\n",
            "https://www.mlb.com/stats/2023/?page=31\n"
          ]
        }
      ],
      "source": [
        "#web scrape data\n",
        "for i in range (1, 32):\n",
        "  r = requests.get('https://www.mlb.com/stats/hits/2023/?page=' + str(i))\n",
        "  print('https://www.mlb.com/stats/2023/?page=' + str(i))\n",
        "\n",
        "  soup = BeautifulSoup(r.content, 'html.parser')\n",
        "  table = soup.find(class_=\"table-scroller-GsCM0EhI scroller\")\n",
        "\n",
        "  columns = [c.get_text() for c in table.find_all('abbr')][2::2]\n",
        "  name = [r.get_text() for r in table.find_all('span', class_=\"short-IiSPVSQp\")]\n",
        "  position = [r.get_text() for r in table.find_all('div', class_=\"position-SAxuJGcx\")]\n",
        "  stat = [r.get_text() for r in table.find_all('td')]\n",
        "\n",
        "  d['name'] += name\n",
        "  d['position'] += position\n",
        "  for i in range (len(columns)):\n",
        "    if i > 12:\n",
        "      d[columns[i]] += [float(stat[j]) for j in range(i, len(stat),len(columns))]\n",
        "    elif i > 0:\n",
        "      d[columns[i]] += [int(stat[j]) for j in range(i, len(stat),len(columns))]\n",
        "    else:\n",
        "      d[columns[i]] += [stat[j] for j in range(i, len(stat),len(columns))]"
      ]
    },
    {
      "cell_type": "code",
      "execution_count": null,
      "metadata": {
        "colab": {
          "base_uri": "https://localhost:8080/",
          "height": 423
        },
        "id": "UGzFIKeqKc7F",
        "outputId": "bf1ffc01-637c-4a50-d9ba-bf4286d7e699"
      },
      "outputs": [
        {
          "output_type": "execute_result",
          "data": {
            "text/plain": [
              "            name position TEAM    G   AB    R    H  2B  3B  HR  RBI  BB   SO  \\\n",
              "0    R Acuña Jr.       RF  ATL  159  643  149  217  35   4  41  106  80   84   \n",
              "1      F Freeman       1B  LAD  161  637  131  211  59   2  29  102  72  121   \n",
              "2       L Arraez       2B  MIA  147  574   71  203  30   3  10   69  35   34   \n",
              "3       M Semien       2B  TEX  162  670  122  185  40   4  29  100  72  110   \n",
              "4    J Rodríguez       CF  SEA  155  654  102  180  37   2  32  103  47  175   \n",
              "..           ...      ...  ...  ...  ...  ...  ...  ..  ..  ..  ...  ..  ...   \n",
              "764   H Wesneski        P  CHC   34    0    0    0   0   0   0    0   0    0   \n",
              "765   G Whitlock        P  BOS   22    0    0    0   0   0   0    0   0    0   \n",
              "766   N Wittgren        P   KC   27    0    0    0   0   0   0    0   0    0   \n",
              "767  R Yarbrough        P  LAD   11    0    0    0   0   0   0    0   0    0   \n",
              "768      A Young        P  CIN   63    0    0    0   0   0   0    0   0    0   \n",
              "\n",
              "     SB  CS    AVG    OBP    SLG    OPS  \n",
              "0    73  14  0.337  0.416  0.596  1.012  \n",
              "1    23   1  0.331  0.410  0.567  0.977  \n",
              "2     3   2  0.354  0.393  0.469  0.862  \n",
              "3    14   3  0.276  0.348  0.478  0.826  \n",
              "4    37  10  0.275  0.333  0.485  0.818  \n",
              "..   ..  ..    ...    ...    ...    ...  \n",
              "764   0   0  0.000  0.000  0.000  0.000  \n",
              "765   0   0  0.000  0.000  0.000  0.000  \n",
              "766   0   0  0.000  0.000  0.000  0.000  \n",
              "767   0   0  0.000  0.000  0.000  0.000  \n",
              "768   0   0  0.000  0.000  0.000  0.000  \n",
              "\n",
              "[769 rows x 19 columns]"
            ],
            "text/html": [
              "\n",
              "  <div id=\"df-77a4a2ca-c8ff-4fbc-8a0f-ac2d008f360b\" class=\"colab-df-container\">\n",
              "    <div>\n",
              "<style scoped>\n",
              "    .dataframe tbody tr th:only-of-type {\n",
              "        vertical-align: middle;\n",
              "    }\n",
              "\n",
              "    .dataframe tbody tr th {\n",
              "        vertical-align: top;\n",
              "    }\n",
              "\n",
              "    .dataframe thead th {\n",
              "        text-align: right;\n",
              "    }\n",
              "</style>\n",
              "<table border=\"1\" class=\"dataframe\">\n",
              "  <thead>\n",
              "    <tr style=\"text-align: right;\">\n",
              "      <th></th>\n",
              "      <th>name</th>\n",
              "      <th>position</th>\n",
              "      <th>TEAM</th>\n",
              "      <th>G</th>\n",
              "      <th>AB</th>\n",
              "      <th>R</th>\n",
              "      <th>H</th>\n",
              "      <th>2B</th>\n",
              "      <th>3B</th>\n",
              "      <th>HR</th>\n",
              "      <th>RBI</th>\n",
              "      <th>BB</th>\n",
              "      <th>SO</th>\n",
              "      <th>SB</th>\n",
              "      <th>CS</th>\n",
              "      <th>AVG</th>\n",
              "      <th>OBP</th>\n",
              "      <th>SLG</th>\n",
              "      <th>OPS</th>\n",
              "    </tr>\n",
              "  </thead>\n",
              "  <tbody>\n",
              "    <tr>\n",
              "      <th>0</th>\n",
              "      <td>R Acuña Jr.</td>\n",
              "      <td>RF</td>\n",
              "      <td>ATL</td>\n",
              "      <td>159</td>\n",
              "      <td>643</td>\n",
              "      <td>149</td>\n",
              "      <td>217</td>\n",
              "      <td>35</td>\n",
              "      <td>4</td>\n",
              "      <td>41</td>\n",
              "      <td>106</td>\n",
              "      <td>80</td>\n",
              "      <td>84</td>\n",
              "      <td>73</td>\n",
              "      <td>14</td>\n",
              "      <td>0.337</td>\n",
              "      <td>0.416</td>\n",
              "      <td>0.596</td>\n",
              "      <td>1.012</td>\n",
              "    </tr>\n",
              "    <tr>\n",
              "      <th>1</th>\n",
              "      <td>F Freeman</td>\n",
              "      <td>1B</td>\n",
              "      <td>LAD</td>\n",
              "      <td>161</td>\n",
              "      <td>637</td>\n",
              "      <td>131</td>\n",
              "      <td>211</td>\n",
              "      <td>59</td>\n",
              "      <td>2</td>\n",
              "      <td>29</td>\n",
              "      <td>102</td>\n",
              "      <td>72</td>\n",
              "      <td>121</td>\n",
              "      <td>23</td>\n",
              "      <td>1</td>\n",
              "      <td>0.331</td>\n",
              "      <td>0.410</td>\n",
              "      <td>0.567</td>\n",
              "      <td>0.977</td>\n",
              "    </tr>\n",
              "    <tr>\n",
              "      <th>2</th>\n",
              "      <td>L Arraez</td>\n",
              "      <td>2B</td>\n",
              "      <td>MIA</td>\n",
              "      <td>147</td>\n",
              "      <td>574</td>\n",
              "      <td>71</td>\n",
              "      <td>203</td>\n",
              "      <td>30</td>\n",
              "      <td>3</td>\n",
              "      <td>10</td>\n",
              "      <td>69</td>\n",
              "      <td>35</td>\n",
              "      <td>34</td>\n",
              "      <td>3</td>\n",
              "      <td>2</td>\n",
              "      <td>0.354</td>\n",
              "      <td>0.393</td>\n",
              "      <td>0.469</td>\n",
              "      <td>0.862</td>\n",
              "    </tr>\n",
              "    <tr>\n",
              "      <th>3</th>\n",
              "      <td>M Semien</td>\n",
              "      <td>2B</td>\n",
              "      <td>TEX</td>\n",
              "      <td>162</td>\n",
              "      <td>670</td>\n",
              "      <td>122</td>\n",
              "      <td>185</td>\n",
              "      <td>40</td>\n",
              "      <td>4</td>\n",
              "      <td>29</td>\n",
              "      <td>100</td>\n",
              "      <td>72</td>\n",
              "      <td>110</td>\n",
              "      <td>14</td>\n",
              "      <td>3</td>\n",
              "      <td>0.276</td>\n",
              "      <td>0.348</td>\n",
              "      <td>0.478</td>\n",
              "      <td>0.826</td>\n",
              "    </tr>\n",
              "    <tr>\n",
              "      <th>4</th>\n",
              "      <td>J Rodríguez</td>\n",
              "      <td>CF</td>\n",
              "      <td>SEA</td>\n",
              "      <td>155</td>\n",
              "      <td>654</td>\n",
              "      <td>102</td>\n",
              "      <td>180</td>\n",
              "      <td>37</td>\n",
              "      <td>2</td>\n",
              "      <td>32</td>\n",
              "      <td>103</td>\n",
              "      <td>47</td>\n",
              "      <td>175</td>\n",
              "      <td>37</td>\n",
              "      <td>10</td>\n",
              "      <td>0.275</td>\n",
              "      <td>0.333</td>\n",
              "      <td>0.485</td>\n",
              "      <td>0.818</td>\n",
              "    </tr>\n",
              "    <tr>\n",
              "      <th>...</th>\n",
              "      <td>...</td>\n",
              "      <td>...</td>\n",
              "      <td>...</td>\n",
              "      <td>...</td>\n",
              "      <td>...</td>\n",
              "      <td>...</td>\n",
              "      <td>...</td>\n",
              "      <td>...</td>\n",
              "      <td>...</td>\n",
              "      <td>...</td>\n",
              "      <td>...</td>\n",
              "      <td>...</td>\n",
              "      <td>...</td>\n",
              "      <td>...</td>\n",
              "      <td>...</td>\n",
              "      <td>...</td>\n",
              "      <td>...</td>\n",
              "      <td>...</td>\n",
              "      <td>...</td>\n",
              "    </tr>\n",
              "    <tr>\n",
              "      <th>764</th>\n",
              "      <td>H Wesneski</td>\n",
              "      <td>P</td>\n",
              "      <td>CHC</td>\n",
              "      <td>34</td>\n",
              "      <td>0</td>\n",
              "      <td>0</td>\n",
              "      <td>0</td>\n",
              "      <td>0</td>\n",
              "      <td>0</td>\n",
              "      <td>0</td>\n",
              "      <td>0</td>\n",
              "      <td>0</td>\n",
              "      <td>0</td>\n",
              "      <td>0</td>\n",
              "      <td>0</td>\n",
              "      <td>0.000</td>\n",
              "      <td>0.000</td>\n",
              "      <td>0.000</td>\n",
              "      <td>0.000</td>\n",
              "    </tr>\n",
              "    <tr>\n",
              "      <th>765</th>\n",
              "      <td>G Whitlock</td>\n",
              "      <td>P</td>\n",
              "      <td>BOS</td>\n",
              "      <td>22</td>\n",
              "      <td>0</td>\n",
              "      <td>0</td>\n",
              "      <td>0</td>\n",
              "      <td>0</td>\n",
              "      <td>0</td>\n",
              "      <td>0</td>\n",
              "      <td>0</td>\n",
              "      <td>0</td>\n",
              "      <td>0</td>\n",
              "      <td>0</td>\n",
              "      <td>0</td>\n",
              "      <td>0.000</td>\n",
              "      <td>0.000</td>\n",
              "      <td>0.000</td>\n",
              "      <td>0.000</td>\n",
              "    </tr>\n",
              "    <tr>\n",
              "      <th>766</th>\n",
              "      <td>N Wittgren</td>\n",
              "      <td>P</td>\n",
              "      <td>KC</td>\n",
              "      <td>27</td>\n",
              "      <td>0</td>\n",
              "      <td>0</td>\n",
              "      <td>0</td>\n",
              "      <td>0</td>\n",
              "      <td>0</td>\n",
              "      <td>0</td>\n",
              "      <td>0</td>\n",
              "      <td>0</td>\n",
              "      <td>0</td>\n",
              "      <td>0</td>\n",
              "      <td>0</td>\n",
              "      <td>0.000</td>\n",
              "      <td>0.000</td>\n",
              "      <td>0.000</td>\n",
              "      <td>0.000</td>\n",
              "    </tr>\n",
              "    <tr>\n",
              "      <th>767</th>\n",
              "      <td>R Yarbrough</td>\n",
              "      <td>P</td>\n",
              "      <td>LAD</td>\n",
              "      <td>11</td>\n",
              "      <td>0</td>\n",
              "      <td>0</td>\n",
              "      <td>0</td>\n",
              "      <td>0</td>\n",
              "      <td>0</td>\n",
              "      <td>0</td>\n",
              "      <td>0</td>\n",
              "      <td>0</td>\n",
              "      <td>0</td>\n",
              "      <td>0</td>\n",
              "      <td>0</td>\n",
              "      <td>0.000</td>\n",
              "      <td>0.000</td>\n",
              "      <td>0.000</td>\n",
              "      <td>0.000</td>\n",
              "    </tr>\n",
              "    <tr>\n",
              "      <th>768</th>\n",
              "      <td>A Young</td>\n",
              "      <td>P</td>\n",
              "      <td>CIN</td>\n",
              "      <td>63</td>\n",
              "      <td>0</td>\n",
              "      <td>0</td>\n",
              "      <td>0</td>\n",
              "      <td>0</td>\n",
              "      <td>0</td>\n",
              "      <td>0</td>\n",
              "      <td>0</td>\n",
              "      <td>0</td>\n",
              "      <td>0</td>\n",
              "      <td>0</td>\n",
              "      <td>0</td>\n",
              "      <td>0.000</td>\n",
              "      <td>0.000</td>\n",
              "      <td>0.000</td>\n",
              "      <td>0.000</td>\n",
              "    </tr>\n",
              "  </tbody>\n",
              "</table>\n",
              "<p>769 rows × 19 columns</p>\n",
              "</div>\n",
              "    <div class=\"colab-df-buttons\">\n",
              "\n",
              "  <div class=\"colab-df-container\">\n",
              "    <button class=\"colab-df-convert\" onclick=\"convertToInteractive('df-77a4a2ca-c8ff-4fbc-8a0f-ac2d008f360b')\"\n",
              "            title=\"Convert this dataframe to an interactive table.\"\n",
              "            style=\"display:none;\">\n",
              "\n",
              "  <svg xmlns=\"http://www.w3.org/2000/svg\" height=\"24px\" viewBox=\"0 -960 960 960\">\n",
              "    <path d=\"M120-120v-720h720v720H120Zm60-500h600v-160H180v160Zm220 220h160v-160H400v160Zm0 220h160v-160H400v160ZM180-400h160v-160H180v160Zm440 0h160v-160H620v160ZM180-180h160v-160H180v160Zm440 0h160v-160H620v160Z\"/>\n",
              "  </svg>\n",
              "    </button>\n",
              "\n",
              "  <style>\n",
              "    .colab-df-container {\n",
              "      display:flex;\n",
              "      gap: 12px;\n",
              "    }\n",
              "\n",
              "    .colab-df-convert {\n",
              "      background-color: #E8F0FE;\n",
              "      border: none;\n",
              "      border-radius: 50%;\n",
              "      cursor: pointer;\n",
              "      display: none;\n",
              "      fill: #1967D2;\n",
              "      height: 32px;\n",
              "      padding: 0 0 0 0;\n",
              "      width: 32px;\n",
              "    }\n",
              "\n",
              "    .colab-df-convert:hover {\n",
              "      background-color: #E2EBFA;\n",
              "      box-shadow: 0px 1px 2px rgba(60, 64, 67, 0.3), 0px 1px 3px 1px rgba(60, 64, 67, 0.15);\n",
              "      fill: #174EA6;\n",
              "    }\n",
              "\n",
              "    .colab-df-buttons div {\n",
              "      margin-bottom: 4px;\n",
              "    }\n",
              "\n",
              "    [theme=dark] .colab-df-convert {\n",
              "      background-color: #3B4455;\n",
              "      fill: #D2E3FC;\n",
              "    }\n",
              "\n",
              "    [theme=dark] .colab-df-convert:hover {\n",
              "      background-color: #434B5C;\n",
              "      box-shadow: 0px 1px 3px 1px rgba(0, 0, 0, 0.15);\n",
              "      filter: drop-shadow(0px 1px 2px rgba(0, 0, 0, 0.3));\n",
              "      fill: #FFFFFF;\n",
              "    }\n",
              "  </style>\n",
              "\n",
              "    <script>\n",
              "      const buttonEl =\n",
              "        document.querySelector('#df-77a4a2ca-c8ff-4fbc-8a0f-ac2d008f360b button.colab-df-convert');\n",
              "      buttonEl.style.display =\n",
              "        google.colab.kernel.accessAllowed ? 'block' : 'none';\n",
              "\n",
              "      async function convertToInteractive(key) {\n",
              "        const element = document.querySelector('#df-77a4a2ca-c8ff-4fbc-8a0f-ac2d008f360b');\n",
              "        const dataTable =\n",
              "          await google.colab.kernel.invokeFunction('convertToInteractive',\n",
              "                                                    [key], {});\n",
              "        if (!dataTable) return;\n",
              "\n",
              "        const docLinkHtml = 'Like what you see? Visit the ' +\n",
              "          '<a target=\"_blank\" href=https://colab.research.google.com/notebooks/data_table.ipynb>data table notebook</a>'\n",
              "          + ' to learn more about interactive tables.';\n",
              "        element.innerHTML = '';\n",
              "        dataTable['output_type'] = 'display_data';\n",
              "        await google.colab.output.renderOutput(dataTable, element);\n",
              "        const docLink = document.createElement('div');\n",
              "        docLink.innerHTML = docLinkHtml;\n",
              "        element.appendChild(docLink);\n",
              "      }\n",
              "    </script>\n",
              "  </div>\n",
              "\n",
              "\n",
              "<div id=\"df-91dca701-86df-42ab-8401-3d36a285c2c7\">\n",
              "  <button class=\"colab-df-quickchart\" onclick=\"quickchart('df-91dca701-86df-42ab-8401-3d36a285c2c7')\"\n",
              "            title=\"Suggest charts\"\n",
              "            style=\"display:none;\">\n",
              "\n",
              "<svg xmlns=\"http://www.w3.org/2000/svg\" height=\"24px\"viewBox=\"0 0 24 24\"\n",
              "     width=\"24px\">\n",
              "    <g>\n",
              "        <path d=\"M19 3H5c-1.1 0-2 .9-2 2v14c0 1.1.9 2 2 2h14c1.1 0 2-.9 2-2V5c0-1.1-.9-2-2-2zM9 17H7v-7h2v7zm4 0h-2V7h2v10zm4 0h-2v-4h2v4z\"/>\n",
              "    </g>\n",
              "</svg>\n",
              "  </button>\n",
              "\n",
              "<style>\n",
              "  .colab-df-quickchart {\n",
              "      --bg-color: #E8F0FE;\n",
              "      --fill-color: #1967D2;\n",
              "      --hover-bg-color: #E2EBFA;\n",
              "      --hover-fill-color: #174EA6;\n",
              "      --disabled-fill-color: #AAA;\n",
              "      --disabled-bg-color: #DDD;\n",
              "  }\n",
              "\n",
              "  [theme=dark] .colab-df-quickchart {\n",
              "      --bg-color: #3B4455;\n",
              "      --fill-color: #D2E3FC;\n",
              "      --hover-bg-color: #434B5C;\n",
              "      --hover-fill-color: #FFFFFF;\n",
              "      --disabled-bg-color: #3B4455;\n",
              "      --disabled-fill-color: #666;\n",
              "  }\n",
              "\n",
              "  .colab-df-quickchart {\n",
              "    background-color: var(--bg-color);\n",
              "    border: none;\n",
              "    border-radius: 50%;\n",
              "    cursor: pointer;\n",
              "    display: none;\n",
              "    fill: var(--fill-color);\n",
              "    height: 32px;\n",
              "    padding: 0;\n",
              "    width: 32px;\n",
              "  }\n",
              "\n",
              "  .colab-df-quickchart:hover {\n",
              "    background-color: var(--hover-bg-color);\n",
              "    box-shadow: 0 1px 2px rgba(60, 64, 67, 0.3), 0 1px 3px 1px rgba(60, 64, 67, 0.15);\n",
              "    fill: var(--button-hover-fill-color);\n",
              "  }\n",
              "\n",
              "  .colab-df-quickchart-complete:disabled,\n",
              "  .colab-df-quickchart-complete:disabled:hover {\n",
              "    background-color: var(--disabled-bg-color);\n",
              "    fill: var(--disabled-fill-color);\n",
              "    box-shadow: none;\n",
              "  }\n",
              "\n",
              "  .colab-df-spinner {\n",
              "    border: 2px solid var(--fill-color);\n",
              "    border-color: transparent;\n",
              "    border-bottom-color: var(--fill-color);\n",
              "    animation:\n",
              "      spin 1s steps(1) infinite;\n",
              "  }\n",
              "\n",
              "  @keyframes spin {\n",
              "    0% {\n",
              "      border-color: transparent;\n",
              "      border-bottom-color: var(--fill-color);\n",
              "      border-left-color: var(--fill-color);\n",
              "    }\n",
              "    20% {\n",
              "      border-color: transparent;\n",
              "      border-left-color: var(--fill-color);\n",
              "      border-top-color: var(--fill-color);\n",
              "    }\n",
              "    30% {\n",
              "      border-color: transparent;\n",
              "      border-left-color: var(--fill-color);\n",
              "      border-top-color: var(--fill-color);\n",
              "      border-right-color: var(--fill-color);\n",
              "    }\n",
              "    40% {\n",
              "      border-color: transparent;\n",
              "      border-right-color: var(--fill-color);\n",
              "      border-top-color: var(--fill-color);\n",
              "    }\n",
              "    60% {\n",
              "      border-color: transparent;\n",
              "      border-right-color: var(--fill-color);\n",
              "    }\n",
              "    80% {\n",
              "      border-color: transparent;\n",
              "      border-right-color: var(--fill-color);\n",
              "      border-bottom-color: var(--fill-color);\n",
              "    }\n",
              "    90% {\n",
              "      border-color: transparent;\n",
              "      border-bottom-color: var(--fill-color);\n",
              "    }\n",
              "  }\n",
              "</style>\n",
              "\n",
              "  <script>\n",
              "    async function quickchart(key) {\n",
              "      const quickchartButtonEl =\n",
              "        document.querySelector('#' + key + ' button');\n",
              "      quickchartButtonEl.disabled = true;  // To prevent multiple clicks.\n",
              "      quickchartButtonEl.classList.add('colab-df-spinner');\n",
              "      try {\n",
              "        const charts = await google.colab.kernel.invokeFunction(\n",
              "            'suggestCharts', [key], {});\n",
              "      } catch (error) {\n",
              "        console.error('Error during call to suggestCharts:', error);\n",
              "      }\n",
              "      quickchartButtonEl.classList.remove('colab-df-spinner');\n",
              "      quickchartButtonEl.classList.add('colab-df-quickchart-complete');\n",
              "    }\n",
              "    (() => {\n",
              "      let quickchartButtonEl =\n",
              "        document.querySelector('#df-91dca701-86df-42ab-8401-3d36a285c2c7 button');\n",
              "      quickchartButtonEl.style.display =\n",
              "        google.colab.kernel.accessAllowed ? 'block' : 'none';\n",
              "    })();\n",
              "  </script>\n",
              "</div>\n",
              "\n",
              "  <div id=\"id_7213f6a9-e8df-4b1f-bdc6-e5783a4066e1\">\n",
              "    <style>\n",
              "      .colab-df-generate {\n",
              "        background-color: #E8F0FE;\n",
              "        border: none;\n",
              "        border-radius: 50%;\n",
              "        cursor: pointer;\n",
              "        display: none;\n",
              "        fill: #1967D2;\n",
              "        height: 32px;\n",
              "        padding: 0 0 0 0;\n",
              "        width: 32px;\n",
              "      }\n",
              "\n",
              "      .colab-df-generate:hover {\n",
              "        background-color: #E2EBFA;\n",
              "        box-shadow: 0px 1px 2px rgba(60, 64, 67, 0.3), 0px 1px 3px 1px rgba(60, 64, 67, 0.15);\n",
              "        fill: #174EA6;\n",
              "      }\n",
              "\n",
              "      [theme=dark] .colab-df-generate {\n",
              "        background-color: #3B4455;\n",
              "        fill: #D2E3FC;\n",
              "      }\n",
              "\n",
              "      [theme=dark] .colab-df-generate:hover {\n",
              "        background-color: #434B5C;\n",
              "        box-shadow: 0px 1px 3px 1px rgba(0, 0, 0, 0.15);\n",
              "        filter: drop-shadow(0px 1px 2px rgba(0, 0, 0, 0.3));\n",
              "        fill: #FFFFFF;\n",
              "      }\n",
              "    </style>\n",
              "    <button class=\"colab-df-generate\" onclick=\"generateWithVariable('df')\"\n",
              "            title=\"Generate code using this dataframe.\"\n",
              "            style=\"display:none;\">\n",
              "\n",
              "  <svg xmlns=\"http://www.w3.org/2000/svg\" height=\"24px\"viewBox=\"0 0 24 24\"\n",
              "       width=\"24px\">\n",
              "    <path d=\"M7,19H8.4L18.45,9,17,7.55,7,17.6ZM5,21V16.75L18.45,3.32a2,2,0,0,1,2.83,0l1.4,1.43a1.91,1.91,0,0,1,.58,1.4,1.91,1.91,0,0,1-.58,1.4L9.25,21ZM18.45,9,17,7.55Zm-12,3A5.31,5.31,0,0,0,4.9,8.1,5.31,5.31,0,0,0,1,6.5,5.31,5.31,0,0,0,4.9,4.9,5.31,5.31,0,0,0,6.5,1,5.31,5.31,0,0,0,8.1,4.9,5.31,5.31,0,0,0,12,6.5,5.46,5.46,0,0,0,6.5,12Z\"/>\n",
              "  </svg>\n",
              "    </button>\n",
              "    <script>\n",
              "      (() => {\n",
              "      const buttonEl =\n",
              "        document.querySelector('#id_7213f6a9-e8df-4b1f-bdc6-e5783a4066e1 button.colab-df-generate');\n",
              "      buttonEl.style.display =\n",
              "        google.colab.kernel.accessAllowed ? 'block' : 'none';\n",
              "\n",
              "      buttonEl.onclick = () => {\n",
              "        google.colab.notebook.generateWithVariable('df');\n",
              "      }\n",
              "      })();\n",
              "    </script>\n",
              "  </div>\n",
              "\n",
              "    </div>\n",
              "  </div>\n"
            ],
            "application/vnd.google.colaboratory.intrinsic+json": {
              "type": "dataframe",
              "variable_name": "df",
              "summary": "{\n  \"name\": \"df\",\n  \"rows\": 769,\n  \"fields\": [\n    {\n      \"column\": \"name\",\n      \"properties\": {\n        \"dtype\": \"string\",\n        \"num_unique_values\": 754,\n        \"samples\": [\n          \"C Smith-Njigba\",\n          \"N Senzel\",\n          \"B Farmer\"\n        ],\n        \"semantic_type\": \"\",\n        \"description\": \"\"\n      }\n    },\n    {\n      \"column\": \"position\",\n      \"properties\": {\n        \"dtype\": \"category\",\n        \"num_unique_values\": 11,\n        \"samples\": [\n          \"SS\",\n          \"RF\",\n          \"X\"\n        ],\n        \"semantic_type\": \"\",\n        \"description\": \"\"\n      }\n    },\n    {\n      \"column\": \"TEAM\",\n      \"properties\": {\n        \"dtype\": \"category\",\n        \"num_unique_values\": 30,\n        \"samples\": [\n          \"SF\",\n          \"NYY\",\n          \"PIT\"\n        ],\n        \"semantic_type\": \"\",\n        \"description\": \"\"\n      }\n    },\n    {\n      \"column\": \"G\",\n      \"properties\": {\n        \"dtype\": \"number\",\n        \"std\": 49,\n        \"min\": 1,\n        \"max\": 162,\n        \"num_unique_values\": 161,\n        \"samples\": [\n          51,\n          44,\n          21\n        ],\n        \"semantic_type\": \"\",\n        \"description\": \"\"\n      }\n    },\n    {\n      \"column\": \"AB\",\n      \"properties\": {\n        \"dtype\": \"number\",\n        \"std\": 198,\n        \"min\": 0,\n        \"max\": 670,\n        \"num_unique_values\": 385,\n        \"samples\": [\n          188,\n          145,\n          41\n        ],\n        \"semantic_type\": \"\",\n        \"description\": \"\"\n      }\n    },\n    {\n      \"column\": \"R\",\n      \"properties\": {\n        \"dtype\": \"number\",\n        \"std\": 30,\n        \"min\": 0,\n        \"max\": 149,\n        \"num_unique_values\": 111,\n        \"samples\": [\n          36,\n          95,\n          102\n        ],\n        \"semantic_type\": \"\",\n        \"description\": \"\"\n      }\n    },\n    {\n      \"column\": \"H\",\n      \"properties\": {\n        \"dtype\": \"number\",\n        \"std\": 53,\n        \"min\": 0,\n        \"max\": 217,\n        \"num_unique_values\": 170,\n        \"samples\": [\n          30,\n          147,\n          51\n        ],\n        \"semantic_type\": \"\",\n        \"description\": \"\"\n      }\n    },\n    {\n      \"column\": \"2B\",\n      \"properties\": {\n        \"dtype\": \"number\",\n        \"std\": 11,\n        \"min\": 0,\n        \"max\": 59,\n        \"num_unique_values\": 44,\n        \"samples\": [\n          5,\n          20,\n          18\n        ],\n        \"semantic_type\": \"\",\n        \"description\": \"\"\n      }\n    },\n    {\n      \"column\": \"3B\",\n      \"properties\": {\n        \"dtype\": \"number\",\n        \"std\": 1,\n        \"min\": 0,\n        \"max\": 11,\n        \"num_unique_values\": 12,\n        \"samples\": [\n          9,\n          10,\n          4\n        ],\n        \"semantic_type\": \"\",\n        \"description\": \"\"\n      }\n    },\n    {\n      \"column\": \"HR\",\n      \"properties\": {\n        \"dtype\": \"number\",\n        \"std\": 9,\n        \"min\": 0,\n        \"max\": 54,\n        \"num_unique_values\": 46,\n        \"samples\": [\n          47,\n          44,\n          11\n        ],\n        \"semantic_type\": \"\",\n        \"description\": \"\"\n      }\n    },\n    {\n      \"column\": \"RBI\",\n      \"properties\": {\n        \"dtype\": \"number\",\n        \"std\": 29,\n        \"min\": 0,\n        \"max\": 139,\n        \"num_unique_values\": 102,\n        \"samples\": [\n          67,\n          36,\n          48\n        ],\n        \"semantic_type\": \"\",\n        \"description\": \"\"\n      }\n    },\n    {\n      \"column\": \"BB\",\n      \"properties\": {\n        \"dtype\": \"number\",\n        \"std\": 22,\n        \"min\": 0,\n        \"max\": 132,\n        \"num_unique_values\": 92,\n        \"samples\": [\n          41,\n          74,\n          44\n        ],\n        \"semantic_type\": \"\",\n        \"description\": \"\"\n      }\n    },\n    {\n      \"column\": \"SO\",\n      \"properties\": {\n        \"dtype\": \"number\",\n        \"std\": 50,\n        \"min\": 0,\n        \"max\": 215,\n        \"num_unique_values\": 166,\n        \"samples\": [\n          133,\n          46,\n          158\n        ],\n        \"semantic_type\": \"\",\n        \"description\": \"\"\n      }\n    },\n    {\n      \"column\": \"SB\",\n      \"properties\": {\n        \"dtype\": \"number\",\n        \"std\": 8,\n        \"min\": 0,\n        \"max\": 73,\n        \"num_unique_values\": 40,\n        \"samples\": [\n          7,\n          13,\n          20\n        ],\n        \"semantic_type\": \"\",\n        \"description\": \"\"\n      }\n    },\n    {\n      \"column\": \"CS\",\n      \"properties\": {\n        \"dtype\": \"number\",\n        \"std\": 1,\n        \"min\": 0,\n        \"max\": 15,\n        \"num_unique_values\": 14,\n        \"samples\": [\n          5,\n          9,\n          14\n        ],\n        \"semantic_type\": \"\",\n        \"description\": \"\"\n      }\n    },\n    {\n      \"column\": \"AVG\",\n      \"properties\": {\n        \"dtype\": \"number\",\n        \"std\": 0.10587230729205678,\n        \"min\": 0.0,\n        \"max\": 1.0,\n        \"num_unique_values\": 181,\n        \"samples\": [\n          0.284,\n          0.232,\n          0.118\n        ],\n        \"semantic_type\": \"\",\n        \"description\": \"\"\n      }\n    },\n    {\n      \"column\": \"OBP\",\n      \"properties\": {\n        \"dtype\": \"number\",\n        \"std\": 0.12943623469440016,\n        \"min\": 0.0,\n        \"max\": 1.0,\n        \"num_unique_values\": 207,\n        \"samples\": [\n          0.216,\n          0.32,\n          0.297\n        ],\n        \"semantic_type\": \"\",\n        \"description\": \"\"\n      }\n    },\n    {\n      \"column\": \"SLG\",\n      \"properties\": {\n        \"dtype\": \"number\",\n        \"std\": 0.1775182106325957,\n        \"min\": 0.0,\n        \"max\": 1.0,\n        \"num_unique_values\": 293,\n        \"samples\": [\n          0.45,\n          0.256,\n          0.497\n        ],\n        \"semantic_type\": \"\",\n        \"description\": \"\"\n      }\n    },\n    {\n      \"column\": \"OPS\",\n      \"properties\": {\n        \"dtype\": \"number\",\n        \"std\": 0.29930936560227195,\n        \"min\": 0.0,\n        \"max\": 2.0,\n        \"num_unique_values\": 367,\n        \"samples\": [\n          0.661,\n          0.851,\n          0.779\n        ],\n        \"semantic_type\": \"\",\n        \"description\": \"\"\n      }\n    }\n  ]\n}"
            }
          },
          "metadata": {},
          "execution_count": 37
        }
      ],
      "source": [
        "df = pd.DataFrame(d)\n",
        "df"
      ]
    },
    {
      "cell_type": "code",
      "execution_count": null,
      "metadata": {
        "id": "gMcnnCbd_HL4"
      },
      "outputs": [],
      "source": [
        "df.to_csv(\"2023 mlb batting data.csv\")"
      ]
    },
    {
      "cell_type": "code",
      "execution_count": null,
      "metadata": {
        "id": "_3g-DLX1TELK"
      },
      "outputs": [],
      "source": [
        "df['ISO'] = df['SLG'] - df['AVG']\n",
        "df['K%'] = df['SO'] / df['AB']\n",
        "df['BB%'] = df['BB'] / df['AB']"
      ]
    },
    {
      "cell_type": "code",
      "execution_count": null,
      "metadata": {
        "colab": {
          "base_uri": "https://localhost:8080/",
          "height": 451
        },
        "id": "OXgZJZIQUehy",
        "outputId": "85516dae-46bd-4220-91b8-73c19dfdebf6"
      },
      "outputs": [
        {
          "output_type": "execute_result",
          "data": {
            "text/plain": [
              "<matplotlib.collections.PathCollection at 0x7abcb2eecc10>"
            ]
          },
          "metadata": {},
          "execution_count": 25
        },
        {
          "output_type": "display_data",
          "data": {
            "text/plain": [
              "<Figure size 640x480 with 1 Axes>"
            ],
            "image/png": "[encoded data removed]"
          },
          "metadata": {}
        }
      ],
      "source": [
        "plt.scatter(df['BB%'], df['SB'])"
      ]
    },
    {
      "cell_type": "code",
      "execution_count": null,
      "metadata": {
        "colab": {
          "base_uri": "https://localhost:8080/",
          "height": 423
        },
        "id": "tc7sHoI1jePF",
        "outputId": "8c401ebe-9519-4086-e6b5-a29ec4ff4fb8"
      },
      "outputs": [
        {
          "data": {
            "text/plain": [
              "<Axes: ylabel='SB'>"
            ]
          },
          "execution_count": 105,
          "metadata": {},
          "output_type": "execute_result"
        },
        {
          "data": {
            "image/png": "[encoded data removed]",
            "text/plain": [
              "<Figure size 640x480 with 1 Axes>"
            ]
          },
          "metadata": {},
          "output_type": "display_data"
        }
      ],
      "source": [
        "df.groupby('position')['SB'].mean().sort_values().plot(kind='pie')"
      ]
    },
    {
      "cell_type": "code",
      "execution_count": null,
      "metadata": {
        "colab": {
          "base_uri": "https://localhost:8080/",
          "height": 474
        },
        "id": "1k-AUkmVc4je",
        "outputId": "17970f2d-8316-4eed-d9cf-d194e00d01a0"
      },
      "outputs": [
        {
          "data": {
            "text/plain": [
              "<Axes: xlabel='position'>"
            ]
          },
          "execution_count": 23,
          "metadata": {},
          "output_type": "execute_result"
        },
        {
          "data": {
            "image/png": "[encoded data removed]",
            "text/plain": [
              "<Figure size 640x480 with 1 Axes>"
            ]
          },
          "metadata": {},
          "output_type": "display_data"
        }
      ],
      "source": [
        "df.groupby('position')['RBI'].mean().plot(kind='bar')"
      ]
    },
    {
      "cell_type": "code",
      "source": [
        "import tensorflow as tf\n",
        "import numpy as np"
      ],
      "metadata": {
        "id": "0u9UI-YIHWNz"
      },
      "execution_count": 2,
      "outputs": []
    },
    {
      "cell_type": "code",
      "source": [
        "df1 = pd.read_csv('2024 mlb batting data.csv')\n",
        "df2 = pd.read_csv('2023 mlb batting data.csv')"
      ],
      "metadata": {
        "id": "rwiGo9PNwmo6"
      },
      "execution_count": null,
      "outputs": []
    },
    {
      "cell_type": "code",
      "source": [
        "#prepare data set for ml\n",
        "x_train = np.column_stack([df1.iloc[:,i].to_numpy() for i in range(4, 20)])\n",
        "y_train = pd.get_dummies(df1['position'])\n",
        "y_train.drop('X', axis=1, inplace=True)\n",
        "y_train.drop('P', axis=1, inplace=True)\n",
        "\n",
        "x_test = np.column_stack([df2.iloc[:,i].to_numpy() for i in range(4, 20)])\n",
        "y_test = pd.get_dummies(df2['position'])"
      ],
      "metadata": {
        "id": "SSMB9Hdau_a7"
      },
      "execution_count": null,
      "outputs": []
    },
    {
      "cell_type": "code",
      "source": [
        "#normalize data\n",
        "norm_layer = tf.keras.layers.Normalization(axis=-1)\n",
        "norm_layer.adapt(x_train)"
      ],
      "metadata": {
        "id": "k9Q5TKa6vPHH"
      },
      "execution_count": null,
      "outputs": []
    },
    {
      "cell_type": "code",
      "source": [
        "#model for position prediction(classfication for 9 classes)\n",
        "model = tf.keras.Sequential([\n",
        "    norm_layer,\n",
        "    tf.keras.layers.Dense(32, input_shape=(16,), activation='relu'),\n",
        "    tf.keras.layers.Dense(16),\n",
        "    tf.keras.layers.Dropout(0.2),\n",
        "    tf.keras.layers.Dense(9, activation='softmax')\n",
        "])"
      ],
      "metadata": {
        "colab": {
          "base_uri": "https://localhost:8080/"
        },
        "id": "wYKvjYj9vbmc",
        "outputId": "21f71262-4293-49b0-9546-91b43b76032b"
      },
      "execution_count": null,
      "outputs": [
        {
          "output_type": "stream",
          "name": "stderr",
          "text": [
            "/usr/local/lib/python3.11/dist-packages/keras/src/layers/core/dense.py:87: UserWarning: Do not pass an `input_shape`/`input_dim` argument to a layer. When using Sequential models, prefer using an `Input(shape)` object as the first layer in the model instead.\n",
            "  super().__init__(activity_regularizer=activity_regularizer, **kwargs)\n"
          ]
        }
      ]
    },
    {
      "cell_type": "code",
      "source": [
        "model.compile(optimizer=tf.keras.optimizers.Adam(learning_rate=0.001), loss='categorical_crossentropy', metrics=[\"accuracy\"])"
      ],
      "metadata": {
        "id": "Dqp4jFt2vlkS"
      },
      "execution_count": null,
      "outputs": []
    },
    {
      "cell_type": "code",
      "source": [
        "model.fit(x_train, y_train, epochs=10, validation_split=0.1)"
      ],
      "metadata": {
        "colab": {
          "base_uri": "https://localhost:8080/"
        },
        "id": "-oD4wHY3vtHL",
        "outputId": "8526832c-4378-4f04-c0a1-c2bcbfce48e9"
      },
      "execution_count": null,
      "outputs": [
        {
          "output_type": "stream",
          "name": "stdout",
          "text": [
            "Epoch 1/10\n",
            "\u001b[1m31/31\u001b[0m \u001b[32m━━━━━━━━━━━━━━━━━━━━\u001b[0m\u001b[37m\u001b[0m \u001b[1m2s\u001b[0m 9ms/step - accuracy: 0.0873 - loss: 2.3075 - val_accuracy: 0.0091 - val_loss: 0.2981\n",
            "Epoch 2/10\n",
            "\u001b[1m31/31\u001b[0m \u001b[32m━━━━━━━━━━━━━━━━━━━━\u001b[0m\u001b[37m\u001b[0m \u001b[1m0s\u001b[0m 4ms/step - accuracy: 0.1664 - loss: 2.1458 - val_accuracy: 0.0091 - val_loss: 0.3033\n",
            "Epoch 3/10\n",
            "\u001b[1m31/31\u001b[0m \u001b[32m━━━━━━━━━━━━━━━━━━━━\u001b[0m\u001b[37m\u001b[0m \u001b[1m0s\u001b[0m 3ms/step - accuracy: 0.1796 - loss: 2.1104 - val_accuracy: 0.0182 - val_loss: 0.3033\n",
            "Epoch 4/10\n",
            "\u001b[1m31/31\u001b[0m \u001b[32m━━━━━━━━━━━━━━━━━━━━\u001b[0m\u001b[37m\u001b[0m \u001b[1m0s\u001b[0m 3ms/step - accuracy: 0.1975 - loss: 2.0437 - val_accuracy: 0.0182 - val_loss: 0.3015\n",
            "Epoch 5/10\n",
            "\u001b[1m31/31\u001b[0m \u001b[32m━━━━━━━━━━━━━━━━━━━━\u001b[0m\u001b[37m\u001b[0m \u001b[1m0s\u001b[0m 3ms/step - accuracy: 0.2445 - loss: 2.0068 - val_accuracy: 0.0182 - val_loss: 0.2962\n",
            "Epoch 6/10\n",
            "\u001b[1m31/31\u001b[0m \u001b[32m━━━━━━━━━━━━━━━━━━━━\u001b[0m\u001b[37m\u001b[0m \u001b[1m0s\u001b[0m 4ms/step - accuracy: 0.2148 - loss: 2.0165 - val_accuracy: 0.0182 - val_loss: 0.2897\n",
            "Epoch 7/10\n",
            "\u001b[1m31/31\u001b[0m \u001b[32m━━━━━━━━━━━━━━━━━━━━\u001b[0m\u001b[37m\u001b[0m \u001b[1m0s\u001b[0m 3ms/step - accuracy: 0.2764 - loss: 1.9538 - val_accuracy: 0.0273 - val_loss: 0.2816\n",
            "Epoch 8/10\n",
            "\u001b[1m31/31\u001b[0m \u001b[32m━━━━━━━━━━━━━━━━━━━━\u001b[0m\u001b[37m\u001b[0m \u001b[1m0s\u001b[0m 3ms/step - accuracy: 0.2211 - loss: 1.9518 - val_accuracy: 0.0182 - val_loss: 0.2811\n",
            "Epoch 9/10\n",
            "\u001b[1m31/31\u001b[0m \u001b[32m━━━━━━━━━━━━━━━━━━━━\u001b[0m\u001b[37m\u001b[0m \u001b[1m0s\u001b[0m 4ms/step - accuracy: 0.2697 - loss: 1.9424 - val_accuracy: 0.0182 - val_loss: 0.2767\n",
            "Epoch 10/10\n",
            "\u001b[1m31/31\u001b[0m \u001b[32m━━━━━━━━━━━━━━━━━━━━\u001b[0m\u001b[37m\u001b[0m \u001b[1m0s\u001b[0m 4ms/step - accuracy: 0.2518 - loss: 1.9428 - val_accuracy: 0.0182 - val_loss: 0.2725\n"
          ]
        },
        {
          "output_type": "execute_result",
          "data": {
            "text/plain": [
              "<keras.src.callbacks.history.History at 0x7bdbf28cb510>"
            ]
          },
          "metadata": {},
          "execution_count": 83
        }
      ]
    },
    {
      "cell_type": "code",
      "source": [
        "#evaluate prediction\n",
        "result = model.predict(x_test)\n",
        "for i in range(5):\n",
        "  plt.scatter(y_test.iloc[:,i], result[:,i])\n",
        "  plt.title(y_test.columns[i])\n",
        "  plt.show()"
      ],
      "metadata": {
        "colab": {
          "base_uri": "https://localhost:8080/",
          "height": 1000
        },
        "id": "qgMtCbV_vuPF",
        "outputId": "f69cc37d-8de5-4ce7-b345-2a9a64786876"
      },
      "execution_count": null,
      "outputs": [
        {
          "output_type": "stream",
          "name": "stderr",
          "text": [
            "WARNING:tensorflow:5 out of the last 11 calls to <function TensorFlowTrainer.make_predict_function.<locals>.one_step_on_data_distributed at 0x7bdc0a87a2a0> triggered tf.function retracing. Tracing is expensive and the excessive number of tracings could be due to (1) creating @tf.function repeatedly in a loop, (2) passing tensors with different shapes, (3) passing Python objects instead of tensors. For (1), please define your @tf.function outside of the loop. For (2), @tf.function has reduce_retracing=True option that can avoid unnecessary retracing. For (3), please refer to https://www.tensorflow.org/guide/function#controlling_retracing and https://www.tensorflow.org/api_docs/python/tf/function for  more details.\n"
          ]
        },
        {
          "output_type": "stream",
          "name": "stdout",
          "text": [
            "\u001b[1m5/5\u001b[0m \u001b[32m━━━━━━━━━━━━━━━━━━━━\u001b[0m\u001b[37m\u001b[0m \u001b[1m0s\u001b[0m 15ms/step\n"
          ]
        },
        {
          "output_type": "display_data",
          "data": {
            "text/plain": [
              "<Figure size 640x480 with 1 Axes>"
            ],
            "image/png": "[encoded data removed]"
          },
          "metadata": {}
        },
        {
          "output_type": "display_data",
          "data": {
            "text/plain": [
              "<Figure size 640x480 with 1 Axes>"
            ],
            "image/png": "[encoded data removed]"
          },
          "metadata": {}
        },
        {
          "output_type": "display_data",
          "data": {
            "text/plain": [
              "<Figure size 640x480 with 1 Axes>"
            ],
            "image/png": "[encoded data removed]"
          },
          "metadata": {}
        },
        {
          "output_type": "display_data",
          "data": {
            "text/plain": [
              "<Figure size 640x480 with 1 Axes>"
            ],
            "image/png": "[encoded data removed]"
          },
          "metadata": {}
        },
        {
          "output_type": "display_data",
          "data": {
            "text/plain": [
              "<Figure size 640x480 with 1 Axes>"
            ],
            "image/png": "[encoded data removed]"
          },
          "metadata": {}
        }
      ]
    },
    {
      "cell_type": "code",
      "source": [],
      "metadata": {
        "id": "8oTtYFR92LRy"
      },
      "execution_count": null,
      "outputs": []
    }
  ],
  "metadata": {
    "colab": {
      "provenance": []
    },
    "kernelspec": {
      "display_name": "Python 3",
      "name": "python3"
    },
    "language_info": {
      "name": "python"
    }
  },
  "nbformat": 4,
  "nbformat_minor": 0
}